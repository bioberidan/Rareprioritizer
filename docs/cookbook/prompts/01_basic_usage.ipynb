{
  "cells": [
    {
      "cell_type": "code",
      "execution_count": null,
      "metadata": {
        "vscode": {
          "languageId": "plaintext"
        }
      },
      "outputs": [],
      "source": [
        "# Basic Prompt System Usage\n",
        "\n",
        "This notebook demonstrates the fundamental operations of the Carlos III prompt architecture system.\n",
        "\n",
        "## Overview\n",
        "\n",
        "The prompt system provides:\n",
        "- **Automatic registration** of prompts via decorators\n",
        "- **Type-safe** response validation with Pydantic\n",
        "- **Centralized management** through a single prompter interface\n",
        "- **Versioning support** for prompt evolution\n",
        "\n",
        "Let's explore the basic functionality step by step.\n"
      ]
    },
    {
      "cell_type": "code",
      "execution_count": null,
      "metadata": {},
      "outputs": [],
      "source": [
        "# Initialize the prompt system\n",
        "import apps.research_prioritization.prompts.prompt_registry\n",
        "from utils.prompts import Prompter\n",
        "\n",
        "print(\"🚀 Prompt system initialized!\")\n",
        "\n",
        "# Create prompter instance\n",
        "prompter = Prompter()\n",
        "print(f\"✅ Prompter created: {prompter.__class__.__name__}\")\n"
      ]
    },
    {
      "cell_type": "code",
      "execution_count": null,
      "metadata": {},
      "outputs": [],
      "source": [
        "## 1. Exploring Available Prompts\n",
        "\n",
        "First, let's see what prompts are available in the system:\n"
      ]
    },
    {
      "cell_type": "code",
      "execution_count": null,
      "metadata": {},
      "outputs": [],
      "source": [
        "# List all available prompts\n",
        "available_prompts = prompter.list_prompts()\n",
        "print(\"📋 Available prompts:\")\n",
        "for alias in sorted(available_prompts):\n",
        "    print(f\"   • {alias}\")\n",
        "\n",
        "print(f\"\\n📊 Total prompts: {len(available_prompts)}\")\n"
      ]
    },
    {
      "cell_type": "code",
      "execution_count": null,
      "metadata": {},
      "outputs": [],
      "source": [
        "# Get detailed system inventory\n",
        "inventory = prompter.get_inventory()\n",
        "\n",
        "print(\"📊 System Inventory:\")\n",
        "print(f\"   Total prompts: {inventory['total_prompts']}\")\n",
        "print(f\"   Domains: {inventory['registry_stats']['domains']}\")\n",
        "print(f\"   Versions: {inventory['registry_stats']['versions']}\")\n",
        "print(f\"   Memory usage: {inventory['registry_stats']['memory_usage_kb']} KB\")\n",
        "\n",
        "print(\"\\n🔍 Prompt Details:\")\n",
        "for alias, details in inventory['prompt_details'].items():\n",
        "    print(f\"   {alias}:\")\n",
        "    print(f\"      Model: {details['model_name']}\")\n",
        "    print(f\"      Template: {details['template_length']} characters\")\n",
        "    print(f\"      Custom Parser: {details['has_custom_parser']}\")\n"
      ]
    },
    {
      "cell_type": "code",
      "execution_count": null,
      "metadata": {},
      "outputs": [],
      "source": [
        "## 2. Working with Individual Prompts\n",
        "\n",
        "Let's get a specific prompt and explore its properties:\n"
      ]
    },
    {
      "cell_type": "code",
      "execution_count": null,
      "metadata": {},
      "outputs": [],
      "source": [
        "# Get a specific prompt\n",
        "prompt = prompter.get_prompt(\"socioeconomic_v1\")\n",
        "\n",
        "print(f\"🎯 Prompt: {prompt.alias}\")\n",
        "print(f\"📝 Class: {prompt.__class__.__name__}\")\n",
        "print(f\"🏷️  Model: {prompt.model.__name__}\")\n",
        "print(f\"📏 Template length: {len(prompt.template)} characters\")\n",
        "\n",
        "# Show the first few lines of the template\n",
        "lines = prompt.template.split('\\n')[:5]\n",
        "print(f\"\\n📄 Template preview:\")\n",
        "for i, line in enumerate(lines):\n",
        "    print(f\"   {i+1}: {line}\")\n"
      ]
    },
    {
      "cell_type": "code",
      "execution_count": null,
      "metadata": {},
      "outputs": [],
      "source": [
        "## 3. Template Formatting\n",
        "\n",
        "Templates contain placeholders that need to be filled with specific values:\n"
      ]
    },
    {
      "cell_type": "code",
      "execution_count": null,
      "metadata": {},
      "outputs": [],
      "source": [
        "# Format the template with specific disease data\n",
        "formatted_template = prompt.template.format(\n",
        "    disease_name=\"Wilson disease\",\n",
        "    orphacode=\"905\"\n",
        ")\n",
        "\n",
        "print(\"✨ Template formatted successfully!\")\n",
        "print(f\"📏 Formatted length: {len(formatted_template)} characters\")\n",
        "\n",
        "# Show the last few lines to see the formatted placeholders\n",
        "lines = formatted_template.split('\\n')[-5:]\n",
        "print(f\"\\n📄 Template ending (with formatted values):\")\n",
        "for i, line in enumerate(lines):\n",
        "    print(f\"   {line}\")\n"
      ]
    },
    {
      "cell_type": "code",
      "execution_count": null,
      "metadata": {},
      "outputs": [],
      "source": [
        "## 4. Model Exploration\n",
        "\n",
        "Each prompt has an associated Pydantic model for response validation. Let's explore the model schema:\n"
      ]
    },
    {
      "cell_type": "code",
      "execution_count": null,
      "metadata": {},
      "outputs": [],
      "source": [
        "import json\n",
        "\n",
        "# Get the JSON schema for the model\n",
        "model_schema = prompt.model.model_json_schema()\n",
        "\n",
        "print(f\"📋 Model: {prompt.model.__name__}\")\n",
        "print(f\"🏷️  Title: {model_schema.get('title', 'N/A')}\")\n",
        "print(f\"📝 Description: {model_schema.get('description', 'N/A')}\")\n",
        "\n",
        "print(f\"\\n🔧 Required fields:\")\n",
        "required_fields = model_schema.get('required', [])\n",
        "for field in required_fields:\n",
        "    print(f\"   • {field}\")\n",
        "\n",
        "print(f\"\\n🎯 Field properties:\")\n",
        "properties = model_schema.get('properties', {})\n",
        "for field_name, field_info in list(properties.items())[:5]:  # Show first 5 fields\n",
        "    field_type = field_info.get('type', 'unknown')\n",
        "    description = field_info.get('description', 'No description')\n",
        "    print(f\"   • {field_name} ({field_type}): {description}\")\n"
      ]
    },
    {
      "cell_type": "code",
      "execution_count": null,
      "metadata": {},
      "outputs": [],
      "source": [
        "## Summary\n",
        "\n",
        "This notebook covered the basic operations of the prompt system:\n",
        "\n",
        "✅ **System Initialization**: Import registry and create prompter  \n",
        "✅ **Prompt Discovery**: List available prompts and get system inventory  \n",
        "✅ **Prompt Access**: Get specific prompts by alias  \n",
        "✅ **Template Usage**: Format templates with dynamic values  \n",
        "✅ **Model Exploration**: Understand response validation schemas  \n",
        "\n",
        "### Next Steps\n",
        "\n",
        "- **02_socioeconomic_analysis.ipynb**: Deep dive into socioeconomic impact analysis\n",
        "- **03_groups_analysis.ipynb**: Explore CIBERER research groups analysis  \n",
        "- **04_llm_integration.ipynb**: Complete LLM integration examples\n",
        "- **05_custom_prompts.ipynb**: Create your own custom prompts\n",
        "\n",
        "The prompt system provides a solid foundation for scalable, type-safe LLM interactions! 🚀\n"
      ]
    }
  ],
  "metadata": {
    "language_info": {
      "name": "python"
    }
  },
  "nbformat": 4,
  "nbformat_minor": 2
}
