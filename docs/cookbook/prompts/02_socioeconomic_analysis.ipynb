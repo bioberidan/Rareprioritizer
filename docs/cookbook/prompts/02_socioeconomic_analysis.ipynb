{
  "cells": [
    {
      "cell_type": "code",
      "execution_count": null,
      "metadata": {
        "vscode": {
          "languageId": "plaintext"
        }
      },
      "outputs": [],
      "source": [
        "# Socioeconomic Impact Analysis with Prompts\n",
        "\n",
        "This notebook demonstrates how to use the socioeconomic impact analysis prompts for rare disease prioritization.\n",
        "\n",
        "## Overview\n",
        "\n",
        "The socioeconomic prompts analyze the economic burden of rare diseases by:\n",
        "- 🔍 **Evidence Discovery**: Searching for cost-of-illness studies\n",
        "- 📊 **Impact Scoring**: Assigning standardized scores (0-10)  \n",
        "- 📚 **Source Documentation**: Recording verifiable evidence\n",
        "- 🇪🇸 **Regional Focus**: Prioritizing Spanish and European studies\n",
        "\n",
        "Available versions:\n",
        "- `socioeconomic_v1`: Comprehensive original prompt\n",
        "- `socioeconomic_v2`: Enhanced version with improved structure\n"
      ]
    }
  ],
  "metadata": {
    "language_info": {
      "name": "python"
    }
  },
  "nbformat": 4,
  "nbformat_minor": 2
}
