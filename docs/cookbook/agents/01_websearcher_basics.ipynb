{
  "cells": [
    {
      "cell_type": "code",
      "execution_count": null,
      "metadata": {
        "vscode": {
          "languageId": "plaintext"
        }
      },
      "outputs": [],
      "source": [
        "# WebSearcher Basics - Cookbook Example 01\n",
        "\n",
        "Welcome to the WebSearcher agent tutorial! This notebook demonstrates the fundamental concepts of using WebSearcher agents for automated research analysis.\n",
        "\n",
        "## 🎯 What You'll Learn\n",
        "\n",
        "- How to initialize WebSearcher agents with different configurations\n",
        "- Understanding the stateful design and its benefits\n",
        "- Performing basic searches with template data\n",
        "- Exploring searcher information and debugging\n",
        "- Best practices for WebSearcher usage\n",
        "\n",
        "## 📋 Prerequisites\n",
        "\n",
        "- Carlos III prompt system installed and configured\n",
        "- OpenAI API access (with o4-mini model)\n",
        "- Prompt registry loaded with socioeconomic and groups prompts\n",
        "\n",
        "Let's get started! 🚀\n"
      ]
    },
    {
      "cell_type": "code",
      "execution_count": null,
      "metadata": {},
      "outputs": [],
      "source": [
        "# Setup and imports\n",
        "import sys\n",
        "import os\n",
        "\n",
        "# Add project root to Python path for imports\n",
        "sys.path.insert(0, os.path.dirname(os.path.dirname(os.path.dirname(os.path.abspath('')))))\n",
        "\n",
        "# Import required modules\n",
        "import apps.research_prioritization.prompts.prompt_registry\n",
        "from agents import WebSearcher\n",
        "\n",
        "print(\"✅ Imports successful!\")\n",
        "print(\"📊 Available prompt types loaded\")\n"
      ]
    },
    {
      "cell_type": "code",
      "execution_count": null,
      "metadata": {},
      "outputs": [],
      "source": [
        "## 📝 Step 1: Creating Your First WebSearcher\n",
        "\n",
        "The WebSearcher class encapsulates:\n",
        "- Prompt loading from the registry\n",
        "- Client configuration \n",
        "- Stateful reuse across multiple searches\n",
        "\n",
        "Let's create a searcher for socioeconomic impact analysis:\n"
      ]
    },
    {
      "cell_type": "code",
      "execution_count": null,
      "metadata": {},
      "outputs": [],
      "source": [
        "# Basic configuration for development/testing\n",
        "client_config = {\n",
        "    \"reasoning\": {\"effort\": \"low\"},  # Fast responses for development\n",
        "    \"max_output_tokens\": 3000        # Reasonable limit\n",
        "}\n",
        "\n",
        "# Create searcher for socioeconomic analysis\n",
        "searcher = WebSearcher(\n",
        "    prompt_alias=\"socioeconomic_v1\",\n",
        "    client_kwargs=client_config\n",
        ")\n",
        "\n",
        "print(f\"✅ WebSearcher created successfully!\")\n",
        "print(f\"📊 Searcher: {searcher}\")\n",
        "print(f\"🎯 Prompt alias: {searcher.prompt_alias}\")\n",
        "print(f\"📏 Template length: {len(searcher.prompt_template)} characters\")\n"
      ]
    },
    {
      "cell_type": "code",
      "execution_count": null,
      "metadata": {},
      "outputs": [],
      "source": [
        "## 🔍 Step 2: Exploring Configuration\n",
        "\n",
        "The `get_info()` method provides detailed information about your searcher's configuration - very useful for debugging!\n"
      ]
    },
    {
      "cell_type": "code",
      "execution_count": null,
      "metadata": {},
      "outputs": [],
      "source": [
        "# Explore searcher configuration\n",
        "info = searcher.get_info()\n",
        "\n",
        "print(\"🔧 Searcher Configuration:\")\n",
        "print(f\"   🎯 Prompt alias: {info['prompt_alias']}\")\n",
        "print(f\"   📏 Template length: {info['prompt_template_length']} characters\")\n",
        "print(f\"   🏷️  Response model: {info['prompt_model']}\")\n",
        "print(f\"   ⚙️  Has client config: {info['has_configured_client']}\")\n",
        "print(f\"   🔧 Client settings: {info['client_kwargs']}\")\n",
        "\n",
        "# Let's also check what prompts are available\n",
        "from utils.prompts import Prompter\n",
        "prompter = Prompter()\n",
        "print(f\"\\n📋 Available prompts: {prompter.list_prompts()}\")\n"
      ]
    },
    {
      "cell_type": "code",
      "execution_count": null,
      "metadata": {},
      "outputs": [],
      "source": [
        "## 🔍 Step 3: Performing Your First Search\n",
        "\n",
        "Now let's use our searcher to analyze Wilson disease. The `search()` method takes template data and returns a structured response:\n"
      ]
    },
    {
      "cell_type": "code",
      "execution_count": null,
      "metadata": {},
      "outputs": [],
      "source": [
        "# Template data for Wilson disease\n",
        "wilson_data = {\n",
        "    \"disease_name\": \"Wilson disease\",\n",
        "    \"orphacode\": \"905\"\n",
        "}\n",
        "\n",
        "print(f\"🏥 Analyzing: {wilson_data['disease_name']} (ORPHA:{wilson_data['orphacode']})\")\n",
        "print(\"📡 Making API call...\")\n",
        "\n",
        "try:\n",
        "    result = searcher.search(wilson_data)\n",
        "    \n",
        "    print(\"✅ Search completed successfully!\")\n",
        "    print(f\"📊 Socioeconomic Score: {result.score.value}/10\")\n",
        "    print(f\"🔬 Evidence Level: {result.evidence_level.value}\")\n",
        "    print(f\"📚 Studies Found: {len(result.socioeconomic_impact_studies)}\")\n",
        "    print(f\"💭 Justification: {result.justification[:150]}...\")\n",
        "    \n",
        "    # Show first study if available\n",
        "    if result.socioeconomic_impact_studies:\n",
        "        first_study = result.socioeconomic_impact_studies[0]\n",
        "        print(f\"\\n📄 First Study Example:\")\n",
        "        print(f\"   💰 Cost: €{first_study.cost}\")\n",
        "        print(f\"   📊 Measure: {first_study.measure}\")\n",
        "        print(f\"   🌍 Country: {first_study.country} ({first_study.year})\")\n",
        "        \n",
        "except Exception as e:\n",
        "    print(f\"❌ Search failed: {e}\")\n",
        "    # We'll continue with the tutorial anyway\n"
      ]
    },
    {
      "cell_type": "code",
      "execution_count": null,
      "metadata": {},
      "outputs": [],
      "source": [
        "## 🔄 Step 4: Demonstrating Stateful Reuse\n",
        "\n",
        "The power of WebSearcher is that you can reuse the same configured instance for multiple searches. No reconfiguration needed!\n"
      ]
    },
    {
      "cell_type": "code",
      "execution_count": null,
      "metadata": {},
      "outputs": [],
      "source": [
        "# Same searcher, different disease - NO reconfiguration needed!\n",
        "huntington_data = {\n",
        "    \"disease_name\": \"Huntington disease\",\n",
        "    \"orphacode\": \"399\"\n",
        "}\n",
        "\n",
        "print(f\"🏥 Analyzing: {huntington_data['disease_name']} (ORPHA:{huntington_data['orphacode']})\")\n",
        "print(\"📡 Reusing configured searcher...\")\n",
        "\n",
        "try:\n",
        "    result2 = searcher.search(huntington_data)\n",
        "    \n",
        "    print(\"✅ Second search completed!\")\n",
        "    print(f\"📊 Socioeconomic Score: {result2.score.value}/10\")\n",
        "    print(f\"🔬 Evidence Level: {result2.evidence_level.value}\")\n",
        "    print(f\"📚 Studies Found: {len(result2.socioeconomic_impact_studies)}\")\n",
        "    \n",
        "    # Key insight\n",
        "    print(\"\\n💡 Key Insight: The searcher was reused without any reconfiguration!\")\n",
        "    print(\"   This is the power of the stateful design - configure once, use many times!\")\n",
        "    \n",
        "except Exception as e:\n",
        "    print(f\"❌ Second search failed: {e}\")\n",
        "    print(\"💡 This would still demonstrate the reuse concept in real usage\")\n"
      ]
    },
    {
      "cell_type": "code",
      "execution_count": null,
      "metadata": {},
      "outputs": [],
      "source": [
        "## 🏥 Step 5: Using Different Prompt Types\n",
        "\n",
        "Different analyses require different prompts. Let's create a searcher for CIBERER research groups analysis:\n"
      ]
    },
    {
      "cell_type": "code",
      "execution_count": null,
      "metadata": {},
      "outputs": [],
      "source": [
        "# Create a groups searcher - different prompt, same template data\n",
        "groups_searcher = WebSearcher(\n",
        "    prompt_alias=\"groups_v1\",\n",
        "    client_kwargs=client_config\n",
        ")\n",
        "\n",
        "print(f\"🆕 Created groups searcher: {groups_searcher}\")\n",
        "print(f\"📊 Groups searcher info: {groups_searcher.get_info()['prompt_model']}\")\n",
        "\n",
        "try:\n",
        "    # Use Wilson data with groups searcher\n",
        "    groups_result = groups_searcher.search(wilson_data)\n",
        "    print(\"✅ Groups search completed!\")\n",
        "    print(f\"🏥 Research Groups Found: {len(groups_result.groups)}\")\n",
        "    \n",
        "    # Show group details\n",
        "    if groups_result.groups:\n",
        "        group = groups_result.groups[0]\n",
        "        print(f\"\\n🏛️ First Group Example:\")\n",
        "        print(f\"   🆔 Unit ID: {group.unit_id}\")\n",
        "        print(f\"   📛 Name: {group.official_name}\")\n",
        "        print(f\"   📍 Location: {group.city}\")\n",
        "        print(f\"   📄 Publications: {len(group.disease_related_publications)}\")\n",
        "        \n",
        "except Exception as e:\n",
        "    print(f\"❌ Groups search failed: {e}\")\n",
        "    print(\"💡 Different prompt types handle different analysis domains\")\n"
      ]
    },
    {
      "cell_type": "code",
      "execution_count": null,
      "metadata": {},
      "outputs": [],
      "source": [
        "## 📋 Summary and Best Practices\n",
        "\n",
        "Congratulations! You've learned the fundamentals of WebSearcher agents. Let's summarize what we've covered:\n"
      ]
    },
    {
      "cell_type": "code",
      "execution_count": null,
      "metadata": {},
      "outputs": [],
      "source": [
        "print(\"✅ What we learned:\")\n",
        "print(\"   • WebSearcher encapsulates prompt + client configuration\")\n",
        "print(\"   • Stateful design enables efficient reuse\")\n",
        "print(\"   • Different prompt types require different searchers\")\n",
        "print(\"   • get_info() provides debugging information\")\n",
        "print(\"   • Template data format is consistent across prompts\")\n",
        "\n",
        "print(\"\\n💡 Best Practices:\")\n",
        "print(\"   • Use appropriate reasoning effort for your needs\")\n",
        "print(\"   • Create searchers for frequently-used prompts\")\n",
        "print(\"   • Handle exceptions gracefully\")\n",
        "print(\"   • Monitor API usage and costs\")\n",
        "print(\"   • Reuse searchers instead of recreating them\")\n",
        "\n",
        "print(\"\\n🎯 Common Client Configurations:\")\n",
        "configs = {\n",
        "    \"Development/Testing\": {\"reasoning\": {\"effort\": \"low\"}, \"max_output_tokens\": 2000},\n",
        "    \"Balanced Analysis\": {\"reasoning\": {\"effort\": \"medium\"}, \"max_output_tokens\": 5000},\n",
        "    \"Thorough Analysis\": {\"reasoning\": {\"effort\": \"high\"}, \"max_output_tokens\": 10000}\n",
        "}\n",
        "\n",
        "for name, config in configs.items():\n",
        "    print(f\"   • {name}: {config}\")\n",
        "\n",
        "print(\"\\n🎉 Tutorial completed successfully!\")\n",
        "print(\"📚 Next: Try the '02_single_disease_analysis.ipynb' cookbook for comprehensive analysis patterns\")\n"
      ]
    }
  ],
  "metadata": {
    "language_info": {
      "name": "python"
    }
  },
  "nbformat": 4,
  "nbformat_minor": 2
}
